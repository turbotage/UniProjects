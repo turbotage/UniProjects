{
 "cells": [
  {
   "cell_type": "code",
   "execution_count": 1,
   "metadata": {},
   "outputs": [],
   "source": [
    "import sympy\n",
    "from sympy import *\n",
    "from sympy import cos, sin, sinh, exp\n",
    "from sympy import Function, Symbol\n",
    "from einsteinpy.symbolic import MetricTensor, ChristoffelSymbols, RiemannCurvatureTensor, RicciTensor, RicciScalar, EinsteinTensor\n",
    "\n",
    "sympy.init_printing()"
   ]
  },
  {
   "cell_type": "code",
   "execution_count": 14,
   "metadata": {
    "scrolled": false
   },
   "outputs": [
    {
     "data": {
      "text/latex": [
       "$\\displaystyle \\left[\\begin{matrix}A^{2}{\\left(r \\right)} & 0 & 0 & 0\\\\0 & - \\frac{e^{- \\frac{m^{2} \\sin^{2}{\\left(\\theta \\right)}}{r^{2}}}}{A^{2}{\\left(r \\right)}} & 0 & 0\\\\0 & 0 & - \\frac{r^{2} e^{- \\frac{m^{2} \\sin^{2}{\\left(\\theta \\right)}}{r^{2}}}}{A^{2}{\\left(r \\right)}} & 0\\\\0 & 0 & 0 & - \\frac{r^{2} \\sin^{2}{\\left(\\theta \\right)}}{A^{2}{\\left(r \\right)}}\\end{matrix}\\right]$"
      ],
      "text/plain": [
       "⎡ 2                                                      ⎤\n",
       "⎢A (r)         0                 0                0      ⎥\n",
       "⎢                                                        ⎥\n",
       "⎢           2    2                                       ⎥\n",
       "⎢         -m ⋅sin (θ)                                    ⎥\n",
       "⎢         ────────────                                   ⎥\n",
       "⎢               2                                        ⎥\n",
       "⎢              r                                         ⎥\n",
       "⎢       -ℯ                                               ⎥\n",
       "⎢  0    ───────────────          0                0      ⎥\n",
       "⎢             2                                          ⎥\n",
       "⎢            A (r)                                       ⎥\n",
       "⎢                                                        ⎥\n",
       "⎢                               2    2                   ⎥\n",
       "⎢                             -m ⋅sin (θ)                ⎥\n",
       "⎢                             ────────────               ⎥\n",
       "⎢                                   2                    ⎥\n",
       "⎢                          2       r                     ⎥\n",
       "⎢                        -r ⋅ℯ                           ⎥\n",
       "⎢  0           0         ──────────────────       0      ⎥\n",
       "⎢                               2                        ⎥\n",
       "⎢                              A (r)                     ⎥\n",
       "⎢                                                        ⎥\n",
       "⎢                                              2    2    ⎥\n",
       "⎢                                            -r ⋅sin (θ) ⎥\n",
       "⎢  0           0                 0           ────────────⎥\n",
       "⎢                                                2       ⎥\n",
       "⎣                                               A (r)    ⎦"
      ]
     },
     "execution_count": 14,
     "metadata": {},
     "output_type": "execute_result"
    }
   ],
   "source": [
    "syms = sympy.symbols(\"t r theta phi\")\n",
    "m, c, a = sympy.symbols(\"m c a\")\n",
    "A = Function('A')(syms[1])\n",
    "\n",
    "# using metric values of schwarschild space-time\n",
    "# a is schwarzschild radius\n",
    "g = [[0 for i in range(4)] for i in range(4)]\n",
    "g[0][0] = A**2\n",
    "g[1][1] = -exp(-(m ** 2)*(sin(syms[2])**2)/(syms[1] ** 2))/(A ** 2)\n",
    "g[2][2] = -exp(-(m ** 2)*(sin(syms[2])**2)/(syms[1] ** 2))*(syms[1] ** 2)/(A ** 2)\n",
    "g[3][3] = -(syms[1] ** 2)*(sin(syms[2]) ** 2)/(A ** 2)\n",
    "metric = MetricTensor(g, syms)\n",
    "metric.tensor()"
   ]
  },
  {
   "cell_type": "code",
   "execution_count": 15,
   "metadata": {
    "scrolled": true
   },
   "outputs": [
    {
     "data": {
      "image/png": "[encoded data removed]",
      "text/latex": [
       "$\\displaystyle - \\frac{\\frac{d}{d r} A{\\left(r \\right)}}{A{\\left(r \\right)}} + \\frac{1}{r}$"
      ],
      "text/plain": [
       "  d           \n",
       "  ──(A(r))    \n",
       "  dr         1\n",
       "- ──────── + ─\n",
       "    A(r)     r"
      ]
     },
     "execution_count": 15,
     "metadata": {},
     "output_type": "execute_result"
    }
   ],
   "source": [
    "# phi, phi, r\n",
    "c331 = diff(g[3][3], syms[1])/g[3][3]/2\n",
    "c331.simplify()"
   ]
  },
  {
   "cell_type": "code",
   "execution_count": 16,
   "metadata": {},
   "outputs": [
    {
     "data": {
      "image/png": "[encoded data removed]",
      "text/latex": [
       "$\\displaystyle \\frac{1}{\\tan{\\left(\\theta \\right)}}$"
      ],
      "text/plain": [
       "  1   \n",
       "──────\n",
       "tan(θ)"
      ]
     },
     "execution_count": 16,
     "metadata": {},
     "output_type": "execute_result"
    }
   ],
   "source": [
    "# phi, phi, theta\n",
    "c332 = diff(g[3][3], syms[2])/g[3][3]/2\n",
    "c332.simplify()"
   ]
  },
  {
   "cell_type": "code",
   "execution_count": 17,
   "metadata": {
    "scrolled": true
   },
   "outputs": [
    {
     "data": {
      "image/png": "[encoded data removed]",
      "text/latex": [
       "$\\displaystyle \\frac{m^{2} \\sin^{2}{\\left(\\theta \\right)}}{r^{3}} - \\frac{\\frac{d}{d r} A{\\left(r \\right)}}{A{\\left(r \\right)}} + \\frac{1}{r}$"
      ],
      "text/plain": [
       "             d           \n",
       " 2    2      ──(A(r))    \n",
       "m ⋅sin (θ)   dr         1\n",
       "────────── - ──────── + ─\n",
       "     3         A(r)     r\n",
       "    r                    "
      ]
     },
     "execution_count": 17,
     "metadata": {},
     "output_type": "execute_result"
    }
   ],
   "source": [
    "# theta, theta, r\n",
    "c221 = diff(g[2][2],syms[1])/(2*g[2][2])\n",
    "c221.simplify()"
   ]
  },
  {
   "cell_type": "code",
   "execution_count": 18,
   "metadata": {},
   "outputs": [
    {
     "data": {
      "image/png": "[encoded data removed]",
      "text/latex": [
       "$\\displaystyle - \\frac{m^{2} \\sin{\\left(2 \\theta \\right)}}{2 r^{2}}$"
      ],
      "text/plain": [
       "  2          \n",
       "-m ⋅sin(2⋅θ) \n",
       "─────────────\n",
       "        2    \n",
       "     2⋅r     "
      ]
     },
     "execution_count": 18,
     "metadata": {},
     "output_type": "execute_result"
    }
   ],
   "source": [
    "# theta, theta, theta\n",
    "c222 = diff(g[2][2],syms[2])/(2*g[2][2])\n",
    "c222.simplify()"
   ]
  },
  {
   "cell_type": "code",
   "execution_count": 19,
   "metadata": {},
   "outputs": [
    {
     "data": {
      "image/png": "[encoded data removed]",
      "text/latex": [
       "$\\displaystyle - \\frac{e^{- \\frac{m^{2} \\left(\\cos{\\left(2 \\theta \\right)} - 1\\right)}{2 r^{2}}} \\sin{\\left(2 \\theta \\right)}}{2}$"
      ],
      "text/plain": [
       "    2                          \n",
       "  -m ⋅(cos(2⋅θ) - 1)           \n",
       "  ───────────────────          \n",
       "             2                 \n",
       "          2⋅r                  \n",
       "-ℯ                   ⋅sin(2⋅θ) \n",
       "───────────────────────────────\n",
       "               2               "
      ]
     },
     "execution_count": 19,
     "metadata": {},
     "output_type": "execute_result"
    }
   ],
   "source": [
    "# theta, phi, phi\n",
    "c233 = -diff(g[3][3],syms[2])/(2*g[2][2])\n",
    "c233.simplify()"
   ]
  },
  {
   "cell_type": "code",
   "execution_count": 20,
   "metadata": {},
   "outputs": [
    {
     "data": {
      "image/png": "[encoded data removed]",
      "text/latex": [
       "$\\displaystyle \\frac{m^{2} \\sin{\\left(2 \\theta \\right)}}{2 r^{4}}$"
      ],
      "text/plain": [
       " 2         \n",
       "m ⋅sin(2⋅θ)\n",
       "───────────\n",
       "       4   \n",
       "    2⋅r    "
      ]
     },
     "execution_count": 20,
     "metadata": {},
     "output_type": "execute_result"
    }
   ],
   "source": [
    "# theta, r, r\n",
    "c211 = -diff(g[1][1],syms[2])/(2*g[2][2])\n",
    "c211.simplify()"
   ]
  },
  {
   "cell_type": "code",
   "execution_count": 21,
   "metadata": {},
   "outputs": [
    {
     "data": {
      "image/png": "[encoded data removed]",
      "text/latex": [
       "$\\displaystyle A^{3}{\\left(r \\right)} e^{\\frac{m^{2} \\sin^{2}{\\left(\\theta \\right)}}{r^{2}}} \\frac{d}{d r} A{\\left(r \\right)}$"
      ],
      "text/plain": [
       "        2    2            \n",
       "       m ⋅sin (θ)         \n",
       "       ──────────         \n",
       "            2             \n",
       " 3         r      d       \n",
       "A (r)⋅ℯ          ⋅──(A(r))\n",
       "                  dr      "
      ]
     },
     "execution_count": 21,
     "metadata": {},
     "output_type": "execute_result"
    }
   ],
   "source": [
    "# r, t, t\n",
    "c100 = -diff(g[0][0],syms[1])/(2*g[1][1])\n",
    "c100.simplify()"
   ]
  },
  {
   "cell_type": "code",
   "execution_count": 22,
   "metadata": {},
   "outputs": [
    {
     "data": {
      "image/png": "[encoded data removed]",
      "text/latex": [
       "$\\displaystyle \\frac{m^{2} \\sin^{2}{\\left(\\theta \\right)}}{r^{3}} - \\frac{\\frac{d}{d r} A{\\left(r \\right)}}{A{\\left(r \\right)}}$"
      ],
      "text/plain": [
       "             d       \n",
       " 2    2      ──(A(r))\n",
       "m ⋅sin (θ)   dr      \n",
       "────────── - ────────\n",
       "     3         A(r)  \n",
       "    r                "
      ]
     },
     "execution_count": 22,
     "metadata": {},
     "output_type": "execute_result"
    }
   ],
   "source": [
    "# r, r, r\n",
    "c111 = diff(g[1][1],syms[1])/(2*g[1][1])\n",
    "c111.simplify()"
   ]
  },
  {
   "cell_type": "code",
   "execution_count": 23,
   "metadata": {},
   "outputs": [
    {
     "data": {
      "image/png": "[encoded data removed]",
      "text/latex": [
       "$\\displaystyle - \\frac{m^{2} \\sin{\\left(2 \\theta \\right)}}{2 r^{2}}$"
      ],
      "text/plain": [
       "  2          \n",
       "-m ⋅sin(2⋅θ) \n",
       "─────────────\n",
       "        2    \n",
       "     2⋅r     "
      ]
     },
     "execution_count": 23,
     "metadata": {},
     "output_type": "execute_result"
    }
   ],
   "source": [
    "# r, r, theta\n",
    "c112 = diff(g[1][1],syms[2])/(2*g[1][1])\n",
    "c112.simplify()"
   ]
  },
  {
   "cell_type": "code",
   "execution_count": 24,
   "metadata": {},
   "outputs": [
    {
     "data": {
      "image/png": "[encoded data removed]",
      "text/latex": [
       "$\\displaystyle - \\frac{m^{2} \\sin^{2}{\\left(\\theta \\right)}}{r} + \\frac{r^{2} \\frac{d}{d r} A{\\left(r \\right)}}{A{\\left(r \\right)}} - r$"
      ],
      "text/plain": [
       "                2 d           \n",
       "   2    2      r ⋅──(A(r))    \n",
       "  m ⋅sin (θ)      dr          \n",
       "- ────────── + ─────────── - r\n",
       "      r            A(r)       "
      ]
     },
     "execution_count": 24,
     "metadata": {},
     "output_type": "execute_result"
    }
   ],
   "source": [
    "# r, theta, theta\n",
    "c122 = -diff(g[2][2],syms[1])/(2*g[1][1])\n",
    "c122.simplify()"
   ]
  },
  {
   "cell_type": "code",
   "execution_count": 25,
   "metadata": {},
   "outputs": [
    {
     "data": {
      "image/png": "[encoded data removed]",
      "text/latex": [
       "$\\displaystyle \\frac{r \\left(r \\frac{d}{d r} A{\\left(r \\right)} - A{\\left(r \\right)}\\right) e^{\\frac{m^{2} \\sin^{2}{\\left(\\theta \\right)}}{r^{2}}} \\sin^{2}{\\left(\\theta \\right)}}{A{\\left(r \\right)}}$"
      ],
      "text/plain": [
       "                        2    2           \n",
       "                       m ⋅sin (θ)        \n",
       "                       ──────────        \n",
       "                            2            \n",
       "  ⎛  d              ⎞      r         2   \n",
       "r⋅⎜r⋅──(A(r)) - A(r)⎟⋅ℯ          ⋅sin (θ)\n",
       "  ⎝  dr             ⎠                    \n",
       "─────────────────────────────────────────\n",
       "                   A(r)                  "
      ]
     },
     "execution_count": 25,
     "metadata": {},
     "output_type": "execute_result"
    }
   ],
   "source": [
    "# r, phi, phi\n",
    "c133 = -diff(g[3][3],syms[1])/(2*g[1][1])\n",
    "c133.simplify()"
   ]
  },
  {
   "cell_type": "code",
   "execution_count": 46,
   "metadata": {},
   "outputs": [
    {
     "data": {
      "image/png": "[encoded data removed]",
      "text/latex": [
       "$\\displaystyle \\frac{\\frac{d}{d r} A{\\left(r \\right)}}{A{\\left(r \\right)}}$"
      ],
      "text/plain": [
       "d       \n",
       "──(A(r))\n",
       "dr      \n",
       "────────\n",
       "  A(r)  "
      ]
     },
     "execution_count": 46,
     "metadata": {},
     "output_type": "execute_result"
    }
   ],
   "source": [
    "# t, t, r\n",
    "c001 = diff(g[0][0],syms[1])/(2*g[0][0])\n",
    "c001.simplify()"
   ]
  },
  {
   "cell_type": "code",
   "execution_count": 48,
   "metadata": {},
   "outputs": [
    {
     "data": {
      "text/latex": [
       "$\\displaystyle \\left[\\begin{matrix}\\left[\\begin{matrix}0 & \\frac{\\frac{d}{d r} A{\\left(r \\right)}}{A{\\left(r \\right)}} & 0 & 0\\\\\\frac{\\frac{d}{d r} A{\\left(r \\right)}}{A{\\left(r \\right)}} & 0 & 0 & 0\\\\0 & 0 & 0 & 0\\\\0 & 0 & 0 & 0\\end{matrix}\\right] & \\left[\\begin{matrix}A^{3}{\\left(r \\right)} e^{\\frac{m^{2} \\sin^{2}{\\left(\\theta \\right)}}{r^{2}}} \\frac{d}{d r} A{\\left(r \\right)} & 0 & 0 & 0\\\\0 & \\frac{m^{2} \\sin^{2}{\\left(\\theta \\right)}}{r^{3}} - \\frac{\\frac{d}{d r} A{\\left(r \\right)}}{A{\\left(r \\right)}} & - \\frac{m^{2} \\sin{\\left(2 \\theta \\right)}}{2 r^{2}} & 0\\\\0 & - \\frac{m^{2} \\sin{\\left(2 \\theta \\right)}}{2 r^{2}} & - \\frac{m^{2} \\sin^{2}{\\left(\\theta \\right)}}{r} + \\frac{r^{2} \\frac{d}{d r} A{\\left(r \\right)}}{A{\\left(r \\right)}} - r & 0\\\\0 & 0 & 0 & \\frac{r \\left(r \\frac{d}{d r} A{\\left(r \\right)} - A{\\left(r \\right)}\\right) e^{\\frac{m^{2} \\sin^{2}{\\left(\\theta \\right)}}{r^{2}}} \\sin^{2}{\\left(\\theta \\right)}}{A{\\left(r \\right)}}\\end{matrix}\\right] & \\left[\\begin{matrix}0 & 0 & 0 & 0\\\\0 & \\frac{m^{2} \\sin{\\left(2 \\theta \\right)}}{2 r^{4}} & \\frac{m^{2} \\sin^{2}{\\left(\\theta \\right)}}{r^{3}} - \\frac{\\frac{d}{d r} A{\\left(r \\right)}}{A{\\left(r \\right)}} + \\frac{1}{r} & 0\\\\0 & \\frac{m^{2} \\sin^{2}{\\left(\\theta \\right)}}{r^{3}} - \\frac{\\frac{d}{d r} A{\\left(r \\right)}}{A{\\left(r \\right)}} + \\frac{1}{r} & - \\frac{m^{2} \\sin{\\left(2 \\theta \\right)}}{2 r^{2}} & 0\\\\0 & 0 & 0 & - \\frac{e^{- \\frac{m^{2} \\left(\\cos{\\left(2 \\theta \\right)} - 1\\right)}{2 r^{2}}} \\sin{\\left(2 \\theta \\right)}}{2}\\end{matrix}\\right] & \\left[\\begin{matrix}0 & 0 & 0 & 0\\\\0 & 0 & 0 & - \\frac{\\frac{d}{d r} A{\\left(r \\right)}}{A{\\left(r \\right)}} + \\frac{1}{r}\\\\0 & 0 & 0 & \\frac{1}{\\tan{\\left(\\theta \\right)}}\\\\0 & - \\frac{\\frac{d}{d r} A{\\left(r \\right)}}{A{\\left(r \\right)}} + \\frac{1}{r} & \\frac{1}{\\tan{\\left(\\theta \\right)}} & 0\\end{matrix}\\right]\\end{matrix}\\right]$"
      ],
      "text/plain": [
       "⎡                            ⎡        2    2                                  \n",
       "⎢                            ⎢       m ⋅sin (θ)                               \n",
       "⎢                            ⎢       ──────────                               \n",
       "⎢                            ⎢            2                                   \n",
       "⎢                            ⎢ 3         r      d                             \n",
       "⎢                            ⎢A (r)⋅ℯ          ⋅──(A(r))            0         \n",
       "⎢                            ⎢                  dr                            \n",
       "⎢                            ⎢                                                \n",
       "⎢⎡          d             ⎤  ⎢                                         d      \n",
       "⎢⎢          ──(A(r))      ⎥  ⎢                             2    2      ──(A(r)\n",
       "⎢⎢          dr            ⎥  ⎢                            m ⋅sin (θ)   dr     \n",
       "⎢⎢   0      ────────  0  0⎥  ⎢            0               ────────── - ───────\n",
       "⎢⎢            A(r)        ⎥  ⎢                                 3         A(r) \n",
       "⎢⎢                        ⎥  ⎢                                r               \n",
       "⎢⎢d                       ⎥  ⎢                                                \n",
       "⎢⎢──(A(r))                ⎥  ⎢                                                \n",
       "⎢⎢dr                      ⎥  ⎢                                  2             \n",
       "⎢⎢────────     0      0  0⎥  ⎢                                -m ⋅sin(2⋅θ)    \n",
       "⎢⎢  A(r)                  ⎥  ⎢            0                   ─────────────   \n",
       "⎢⎢                        ⎥  ⎢                                        2       \n",
       "⎢⎢   0         0      0  0⎥  ⎢                                     2⋅r        \n",
       "⎢⎢                        ⎥  ⎢                                                \n",
       "⎢⎣   0         0      0  0⎦  ⎢                                                \n",
       "⎢                            ⎢                                                \n",
       "⎢                            ⎢                                                \n",
       "⎢                            ⎢                                                \n",
       "⎢                            ⎢                                                \n",
       "⎢                            ⎢                                                \n",
       "⎢                            ⎢                                                \n",
       "⎢                            ⎢            0                         0         \n",
       "⎣                            ⎣                                                \n",
       "\n",
       "                                                                            ⎤ \n",
       "                                                                            ⎥ \n",
       "                                                                            ⎥ \n",
       "                                                                            ⎥ \n",
       "                                                                            ⎥ \n",
       "                 0                                     0                    ⎥ \n",
       "                                                                            ⎥ \n",
       "                                                                            ⎥ \n",
       "                                                                            ⎥ \n",
       ")            2                                                              ⎥ \n",
       "           -m ⋅sin(2⋅θ)                                                     ⎥ \n",
       "─          ─────────────                               0                    ⎥ \n",
       "                   2                                                        ⎥ \n",
       "                2⋅r                                                         ⎥ \n",
       "                                                                            ⎥ \n",
       "                   2 d                                                      ⎥ \n",
       "      2    2      r ⋅──(A(r))                                               ⎥ \n",
       "     m ⋅sin (θ)      dr                                                     ⎥ \n",
       "   - ────────── + ─────────── - r                      0                    ⎥ \n",
       "         r            A(r)                                                  ⎥ \n",
       "                                                                            ⎥ \n",
       "                                                                            ⎥ \n",
       "                                                           2    2           ⎥ \n",
       "                                                          m ⋅sin (θ)        ⎥ \n",
       "                                                          ──────────        ⎥ \n",
       "                                                               2            ⎥ \n",
       "                                     ⎛  d              ⎞      r         2   ⎥ \n",
       "                                   r⋅⎜r⋅──(A(r)) - A(r)⎟⋅ℯ          ⋅sin (θ)⎥ \n",
       "                                     ⎝  dr             ⎠                    ⎥ \n",
       "                 0                 ─────────────────────────────────────────⎥ \n",
       "                                                      A(r)                  ⎦ \n",
       "\n",
       "                                                                              \n",
       "                                                                              \n",
       "                                                                              \n",
       " ⎡0              0                          0                             0   \n",
       " ⎢                                                                            \n",
       " ⎢                                           d                                \n",
       " ⎢           2                   2    2      ──(A(r))                         \n",
       " ⎢          m ⋅sin(2⋅θ)         m ⋅sin (θ)   dr         1                     \n",
       " ⎢0         ───────────         ────────── - ──────── + ─                 0   \n",
       " ⎢                 4                 3         A(r)     r                     \n",
       " ⎢              2⋅r                 r                                         \n",
       " ⎢                                                                            \n",
       " ⎢                d                                                           \n",
       " ⎢    2    2      ──(A(r))              2                                     \n",
       " ⎢   m ⋅sin (θ)   dr         1        -m ⋅sin(2⋅θ)                            \n",
       " ⎢0  ────────── - ──────── + ─        ─────────────                       0   \n",
       " ⎢        3         A(r)     r                2                               \n",
       " ⎢       r                                 2⋅r                                \n",
       " ⎢                                                                            \n",
       " ⎢                                                             2              \n",
       " ⎢                                                           -m ⋅(cos(2⋅θ) - 1\n",
       " ⎢                                                           ─────────────────\n",
       " ⎢                                                                      2     \n",
       " ⎢                                                                   2⋅r      \n",
       " ⎢                                                         -ℯ                 \n",
       " ⎢0              0                          0              ───────────────────\n",
       " ⎣                                                                        2   \n",
       "                                                                              \n",
       "                                                                              \n",
       "                                                                              \n",
       "                                                                              \n",
       "\n",
       "                                                          ⎤\n",
       "                                                          ⎥\n",
       "                                                          ⎥\n",
       "            ⎤                                             ⎥\n",
       "            ⎥                                             ⎥\n",
       "            ⎥                                             ⎥\n",
       "            ⎥                                             ⎥\n",
       "            ⎥  ⎡0        0           0           0       ⎤⎥\n",
       "            ⎥  ⎢                                         ⎥⎥\n",
       "            ⎥  ⎢                             d           ⎥⎥\n",
       "            ⎥  ⎢                             ──(A(r))    ⎥⎥\n",
       "            ⎥  ⎢                             dr         1⎥⎥\n",
       "            ⎥  ⎢0        0           0     - ──────── + ─⎥⎥\n",
       "            ⎥  ⎢                               A(r)     r⎥⎥\n",
       "            ⎥  ⎢                                         ⎥⎥\n",
       "            ⎥  ⎢                                 1       ⎥⎥\n",
       "            ⎥  ⎢0        0           0         ──────    ⎥⎥\n",
       "            ⎥  ⎢                               tan(θ)    ⎥⎥\n",
       "            ⎥  ⎢                                         ⎥⎥\n",
       "            ⎥  ⎢     d                                   ⎥⎥\n",
       ")           ⎥  ⎢     ──(A(r))                            ⎥⎥\n",
       "──          ⎥  ⎢     dr         1    1                   ⎥⎥\n",
       "            ⎥  ⎢0  - ──────── + ─  ──────        0       ⎥⎥\n",
       "            ⎥  ⎣       A(r)     r  tan(θ)                ⎦⎥\n",
       "  ⋅sin(2⋅θ) ⎥                                             ⎥\n",
       "────────────⎥                                             ⎥\n",
       "            ⎦                                             ⎥\n",
       "                                                          ⎥\n",
       "                                                          ⎥\n",
       "                                                          ⎥\n",
       "                                                          ⎦"
      ]
     },
     "execution_count": 48,
     "metadata": {},
     "output_type": "execute_result"
    }
   ],
   "source": [
    "ChrSym = ChristoffelSymbols.from_metric(metric)\n",
    "ChrSym.simplify()"
   ]
  },
  {
   "cell_type": "code",
   "execution_count": 13,
   "metadata": {},
   "outputs": [
    {
     "data": {
      "text/latex": [
       "$\\displaystyle \\left[\\begin{matrix}\\frac{\\left(r A{\\left(r \\right)} \\frac{d^{2}}{d r^{2}} A{\\left(r \\right)} - r \\left(\\frac{d}{d r} A{\\left(r \\right)}\\right)^{2} + 2 A{\\left(r \\right)} \\frac{d}{d r} A{\\left(r \\right)}\\right) A^{2}{\\left(r \\right)} e^{\\frac{m^{2} \\sin^{2}{\\left(\\theta \\right)}}{r^{2}}}}{r} & 0 & 0 & 0\\\\0 & \\frac{2 m^{2}}{r^{4}} + \\frac{\\frac{d^{2}}{d r^{2}} A{\\left(r \\right)}}{A{\\left(r \\right)}} - \\frac{3 \\left(\\frac{d}{d r} A{\\left(r \\right)}\\right)^{2}}{A^{2}{\\left(r \\right)}} + \\frac{2 \\frac{d}{d r} A{\\left(r \\right)}}{r A{\\left(r \\right)}} & 0 & 0\\\\0 & 0 & \\frac{r \\left(r A{\\left(r \\right)} \\frac{d^{2}}{d r^{2}} A{\\left(r \\right)} - r \\left(\\frac{d}{d r} A{\\left(r \\right)}\\right)^{2} + 2 A{\\left(r \\right)} \\frac{d}{d r} A{\\left(r \\right)}\\right)}{A^{2}{\\left(r \\right)}} & 0\\\\0 & 0 & 0 & \\frac{r \\left(r A{\\left(r \\right)} \\frac{d^{2}}{d r^{2}} A{\\left(r \\right)} - r \\left(\\frac{d}{d r} A{\\left(r \\right)}\\right)^{2} + 2 A{\\left(r \\right)} \\frac{d}{d r} A{\\left(r \\right)}\\right) e^{\\frac{m^{2} \\sin^{2}{\\left(\\theta \\right)}}{r^{2}}} \\sin^{2}{\\left(\\theta \\right)}}{A^{2}{\\left(r \\right)}}\\end{matrix}\\right]$"
      ],
      "text/plain": [
       "⎡                                                             2    2          \n",
       "⎢                                                            m ⋅sin (θ)       \n",
       "⎢                                                            ──────────       \n",
       "⎢⎛         2                     2                  ⎞             2           \n",
       "⎢⎜        d            ⎛d       ⎞           d       ⎟  2         r            \n",
       "⎢⎜r⋅A(r)⋅───(A(r)) - r⋅⎜──(A(r))⎟  + 2⋅A(r)⋅──(A(r))⎟⋅A (r)⋅ℯ                 \n",
       "⎢⎜         2           ⎝dr      ⎠           dr      ⎟                         \n",
       "⎢⎝       dr                                         ⎠                         \n",
       "⎢──────────────────────────────────────────────────────────────────────       \n",
       "⎢                                  r                                          \n",
       "⎢                                                                             \n",
       "⎢                                                                             \n",
       "⎢                                                                             \n",
       "⎢                                                                             \n",
       "⎢                                                                           2 \n",
       "⎢                                                                        2⋅m  \n",
       "⎢                                  0                                     ──── \n",
       "⎢                                                                          4  \n",
       "⎢                                                                         r   \n",
       "⎢                                                                             \n",
       "⎢                                                                             \n",
       "⎢                                                                             \n",
       "⎢                                                                             \n",
       "⎢                                                                             \n",
       "⎢                                                                             \n",
       "⎢                                  0                                          \n",
       "⎢                                                                             \n",
       "⎢                                                                             \n",
       "⎢                                                                             \n",
       "⎢                                                                             \n",
       "⎢                                                                             \n",
       "⎢                                                                             \n",
       "⎢                                                                             \n",
       "⎢                                                                             \n",
       "⎢                                                                             \n",
       "⎢                                                                             \n",
       "⎢                                                                             \n",
       "⎢                                  0                                          \n",
       "⎢                                                                             \n",
       "⎣                                                                             \n",
       "\n",
       "                                                                              \n",
       "                                                                              \n",
       "                                                                              \n",
       "                                                                              \n",
       "                                                                              \n",
       "                                                                              \n",
       "                                                                              \n",
       "                                                                              \n",
       "                 0                                                  0         \n",
       "                                                                              \n",
       "                                                                              \n",
       "    2                                                                         \n",
       "   d                      2                                                   \n",
       "  ───(A(r))     ⎛d       ⎞      d                                             \n",
       "    2         3⋅⎜──(A(r))⎟    2⋅──(A(r))                                      \n",
       "  dr            ⎝dr      ⎠      dr                                            \n",
       "+ ───────── - ───────────── + ──────────                            0         \n",
       "     A(r)          2            r⋅A(r)                                        \n",
       "                  A (r)                                                       \n",
       "                                                                              \n",
       "                                            ⎛         2                     2 \n",
       "                                            ⎜        d            ⎛d       ⎞  \n",
       "                                          r⋅⎜r⋅A(r)⋅───(A(r)) - r⋅⎜──(A(r))⎟  \n",
       "                                            ⎜         2           ⎝dr      ⎠  \n",
       "                                            ⎝       dr                        \n",
       "                 0                        ────────────────────────────────────\n",
       "                                                                   2          \n",
       "                                                                  A (r)       \n",
       "                                                                              \n",
       "                                                                              \n",
       "                                                                              \n",
       "                                                                              \n",
       "                                                                              \n",
       "                                                                              \n",
       "                                                                              \n",
       "                                                                              \n",
       "                                                                              \n",
       "                 0                                                  0         \n",
       "                                                                              \n",
       "                                                                              \n",
       "\n",
       "                                                                              \n",
       "                                                                              \n",
       "                                                                              \n",
       "                                                                              \n",
       "                                                                              \n",
       "                                                                              \n",
       "                                                                              \n",
       "                                                                              \n",
       "                                                        0                     \n",
       "                                                                              \n",
       "                                                                              \n",
       "                                                                              \n",
       "                                                                              \n",
       "                                                                              \n",
       "                                                                              \n",
       "                                                                              \n",
       "                                                        0                     \n",
       "                                                                              \n",
       "                                                                              \n",
       "                                                                              \n",
       "                 ⎞                                                            \n",
       "         d       ⎟                                                            \n",
       "+ 2⋅A(r)⋅──(A(r))⎟                                                            \n",
       "         dr      ⎟                                                            \n",
       "                 ⎠                                                            \n",
       "──────────────────                                      0                     \n",
       "                                                                              \n",
       "                                                                              \n",
       "                                                                              \n",
       "                                                                             2\n",
       "                                                                            m \n",
       "                                                                            ──\n",
       "                      ⎛         2                     2                  ⎞    \n",
       "                      ⎜        d            ⎛d       ⎞           d       ⎟    \n",
       "                    r⋅⎜r⋅A(r)⋅───(A(r)) - r⋅⎜──(A(r))⎟  + 2⋅A(r)⋅──(A(r))⎟⋅ℯ  \n",
       "                      ⎜         2           ⎝dr      ⎠           dr      ⎟    \n",
       "                      ⎝       dr                                         ⎠    \n",
       "                    ──────────────────────────────────────────────────────────\n",
       "                                                       2                      \n",
       "                                                      A (r)                   \n",
       "\n",
       "                ⎤\n",
       "                ⎥\n",
       "                ⎥\n",
       "                ⎥\n",
       "                ⎥\n",
       "                ⎥\n",
       "                ⎥\n",
       "                ⎥\n",
       "                ⎥\n",
       "                ⎥\n",
       "                ⎥\n",
       "                ⎥\n",
       "                ⎥\n",
       "                ⎥\n",
       "                ⎥\n",
       "                ⎥\n",
       "                ⎥\n",
       "                ⎥\n",
       "                ⎥\n",
       "                ⎥\n",
       "                ⎥\n",
       "                ⎥\n",
       "                ⎥\n",
       "                ⎥\n",
       "                ⎥\n",
       "                ⎥\n",
       "                ⎥\n",
       "                ⎥\n",
       "                ⎥\n",
       "    2           ⎥\n",
       "⋅sin (θ)        ⎥\n",
       "────────        ⎥\n",
       "   2            ⎥\n",
       "  r         2   ⎥\n",
       "        ⋅sin (θ)⎥\n",
       "                ⎥\n",
       "                ⎥\n",
       "────────────────⎥\n",
       "                ⎥\n",
       "                ⎦"
      ]
     },
     "execution_count": 13,
     "metadata": {},
     "output_type": "execute_result"
    }
   ],
   "source": [
    "Ric = RicciTensor.from_metric(metric)\n",
    "Ric.simplify()"
   ]
  },
  {
   "cell_type": "code",
   "execution_count": 49,
   "metadata": {},
   "outputs": [],
   "source": [
    "#Einst = EinsteinTensor.from_metric(metric)\n",
    "#Einst.tensor()"
   ]
  },
  {
   "cell_type": "code",
   "execution_count": 44,
   "metadata": {},
   "outputs": [
    {
     "data": {
      "image/png": "[encoded data removed]",
      "text/latex": [
       "$\\displaystyle - \\frac{2 m^{2} A^{3}{\\left(r \\right)} e^{\\frac{m^{2} \\sin^{2}{\\left(\\theta \\right)}}{r^{2}}} \\sin^{2}{\\left(\\theta \\right)} \\frac{d}{d r} A{\\left(r \\right)}}{r^{3}} + A^{3}{\\left(r \\right)} e^{\\frac{m^{2} \\sin^{2}{\\left(\\theta \\right)}}{r^{2}}} \\frac{d^{2}}{d r^{2}} A{\\left(r \\right)} + 3 A^{2}{\\left(r \\right)} e^{\\frac{m^{2} \\sin^{2}{\\left(\\theta \\right)}}{r^{2}}} \\left(\\frac{d}{d r} A{\\left(r \\right)}\\right)^{2}$"
      ],
      "text/plain": [
       "               2    2                                                         \n",
       "              m ⋅sin (θ)                                                      \n",
       "              ──────────                            2    2                    \n",
       "                   2                               m ⋅sin (θ)                 \n",
       "     2  3         r         2    d                 ──────────                 \n",
       "  2⋅m ⋅A (r)⋅ℯ          ⋅sin (θ)⋅──(A(r))               2       2             \n",
       "                                 dr          3         r       d             2\n",
       "- ─────────────────────────────────────── + A (r)⋅ℯ          ⋅───(A(r)) + 3⋅A \n",
       "                      3                                         2             \n",
       "                     r                                        dr              \n",
       "\n",
       "                           \n",
       "                           \n",
       "      2    2               \n",
       "     m ⋅sin (θ)            \n",
       "     ──────────            \n",
       "          2               2\n",
       "         r      ⎛d       ⎞ \n",
       "(r)⋅ℯ          ⋅⎜──(A(r))⎟ \n",
       "                ⎝dr      ⎠ \n",
       "                           "
      ]
     },
     "execution_count": 44,
     "metadata": {},
     "output_type": "execute_result"
    }
   ],
   "source": [
    "expr1 = (A**3)*exp((m**2)*(sin(syms[2])**2)/(syms[1]**2))*diff(A,syms[1])\n",
    "expr1.simplify()\n",
    "diff1 = diff(expr1, syms[1])\n",
    "diff1"
   ]
  },
  {
   "cell_type": "code",
   "execution_count": 51,
   "metadata": {},
   "outputs": [
    {
     "data": {
      "image/png": "[encoded data removed]",
      "text/latex": [
       "$\\displaystyle \\frac{2 m^{2} \\sin^{2}{\\left(\\theta \\right)}}{r^{3}} + \\frac{m^{2} \\cos{\\left(2 \\theta \\right)}}{r^{4}} - \\frac{\\frac{d^{2}}{d r^{2}} A{\\left(r \\right)}}{A{\\left(r \\right)}} + \\frac{\\left(\\frac{d}{d r} A{\\left(r \\right)}\\right)^{2}}{A^{2}{\\left(r \\right)}} + \\frac{2}{r^{2}}$"
      ],
      "text/plain": [
       "                               2                         \n",
       "                              d                    2     \n",
       "                             ───(A(r))   ⎛d       ⎞      \n",
       "   2    2       2              2         ⎜──(A(r))⎟      \n",
       "2⋅m ⋅sin (θ)   m ⋅cos(2⋅θ)   dr          ⎝dr      ⎠    2 \n",
       "──────────── + ─────────── - ───────── + ─────────── + ──\n",
       "      3              4          A(r)         2          2\n",
       "     r              r                       A (r)      r "
      ]
     },
     "execution_count": 51,
     "metadata": {},
     "output_type": "execute_result"
    }
   ],
   "source": [
    "expr2 = diff((m**2)*sin(syms[2])*cos(syms[2])/(syms[1]**4),syms[2])-diff(diff(A,syms[1])/A + (m**2)*(sin(syms[2])**2)/(syms[1]**2) + 2/syms[1],syms[1])\n",
    "expr2.simplify()"
   ]
  },
  {
   "cell_type": "code",
   "execution_count": 55,
   "metadata": {},
   "outputs": [
    {
     "data": {
      "image/png": "[encoded data removed]",
      "text/latex": [
       "$\\displaystyle \\left(\\frac{m^{2} \\sin^{2}{\\left(\\theta \\right)}}{r^{3}} - \\frac{\\frac{d}{d r} A{\\left(r \\right)}}{A{\\left(r \\right)}}\\right) \\left(\\frac{m^{2} \\sin^{2}{\\left(\\theta \\right)}}{r^{2}} - \\frac{\\frac{d}{d r} A{\\left(r \\right)}}{A{\\left(r \\right)}} + \\frac{2}{r}\\right)$"
      ],
      "text/plain": [
       "⎛             d       ⎞ ⎛             d           ⎞\n",
       "⎜ 2    2      ──(A(r))⎟ ⎜ 2    2      ──(A(r))    ⎟\n",
       "⎜m ⋅sin (θ)   dr      ⎟ ⎜m ⋅sin (θ)   dr         2⎟\n",
       "⎜────────── - ────────⎟⋅⎜────────── - ──────── + ─⎟\n",
       "⎜     3         A(r)  ⎟ ⎜     2         A(r)     r⎟\n",
       "⎝    r                ⎠ ⎝    r                    ⎠"
      ]
     },
     "execution_count": 55,
     "metadata": {},
     "output_type": "execute_result"
    }
   ],
   "source": [
    "expr3 = (m**2)*(sin(syms[2])**2)/(syms[1]**2) + 2/syms[1] - diff(A,syms[1])/A\n",
    "expr4 = expr3*((m**2)*(sin(syms[2])**2)/(syms[1]**3)-diff(A,syms[1])/A)\n",
    "expr4"
   ]
  },
  {
   "cell_type": "code",
   "execution_count": 57,
   "metadata": {},
   "outputs": [
    {
     "data": {
      "image/png": "[encoded data removed]",
      "text/latex": [
       "$\\displaystyle \\frac{2 m^{2} \\sin^{2}{\\left(\\theta \\right)}}{r^{3}} - \\frac{m^{2} \\sin^{2}{\\left(\\theta \\right)}}{r^{4}} + \\frac{m^{2} \\cos^{2}{\\left(\\theta \\right)}}{r^{4}} + \\left(\\frac{m^{2} \\sin^{2}{\\left(\\theta \\right)}}{r^{3}} - \\frac{\\frac{d}{d r} A{\\left(r \\right)}}{A{\\left(r \\right)}}\\right) \\left(\\frac{m^{2} \\sin^{2}{\\left(\\theta \\right)}}{r^{2}} - \\frac{\\frac{d}{d r} A{\\left(r \\right)}}{A{\\left(r \\right)}} + \\frac{2}{r}\\right) - \\frac{\\frac{d^{2}}{d r^{2}} A{\\left(r \\right)}}{A{\\left(r \\right)}} + \\frac{\\left(\\frac{d}{d r} A{\\left(r \\right)}\\right)^{2}}{A^{2}{\\left(r \\right)}} + \\frac{2}{r^{2}}$"
      ],
      "text/plain": [
       "                                                                              \n",
       "                                                                              \n",
       "                                         ⎛             d       ⎞ ⎛            \n",
       "   2    2       2    2       2    2      ⎜ 2    2      ──(A(r))⎟ ⎜ 2    2     \n",
       "2⋅m ⋅sin (θ)   m ⋅sin (θ)   m ⋅cos (θ)   ⎜m ⋅sin (θ)   dr      ⎟ ⎜m ⋅sin (θ)  \n",
       "──────────── - ────────── + ────────── + ⎜────────── - ────────⎟⋅⎜────────── -\n",
       "      3             4            4       ⎜     3         A(r)  ⎟ ⎜     2      \n",
       "     r             r            r        ⎝    r                ⎠ ⎝    r       \n",
       "\n",
       "                   2                         \n",
       "                  d                    2     \n",
       " d           ⎞   ───(A(r))   ⎛d       ⎞      \n",
       " ──(A(r))    ⎟     2         ⎜──(A(r))⎟      \n",
       " dr         2⎟   dr          ⎝dr      ⎠    2 \n",
       " ──────── + ─⎟ - ───────── + ─────────── + ──\n",
       "   A(r)     r⎟      A(r)         2          2\n",
       "             ⎠                  A (r)      r "
      ]
     },
     "execution_count": 57,
     "metadata": {},
     "output_type": "execute_result"
    }
   ],
   "source": [
    "expr5 = expr2+expr4\n",
    "expr5"
   ]
  },
  {
   "cell_type": "code",
   "execution_count": null,
   "metadata": {},
   "outputs": [],
   "source": [
    "expr6 = exp((m ** 2)*(sin(syms[2])**2)/(syms[1] ** 2))*(sin(syms[2])**2)*syms[1]*(syms[1]*diff(A,syms[1])-A)\n",
    "expr6"
   ]
  }
 ],
 "metadata": {
  "kernelspec": {
   "display_name": "Python 3",
   "language": "python",
   "name": "python3"
  },
  "language_info": {
   "codemirror_mode": {
    "name": "ipython",
    "version": 3
   },
   "file_extension": ".py",
   "mimetype": "text/x-python",
   "name": "python",
   "nbconvert_exporter": "python",
   "pygments_lexer": "ipython3",
   "version": "3.8.3"
  }
 },
 "nbformat": 4,
 "nbformat_minor": 4
}
