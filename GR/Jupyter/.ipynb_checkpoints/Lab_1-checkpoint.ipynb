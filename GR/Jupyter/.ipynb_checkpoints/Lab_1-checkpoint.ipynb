{
 "cells": [
  {
   "cell_type": "markdown",
   "metadata": {},
   "source": [
    "# Einstein \n",
    "\n"
   ]
  },
  {
   "cell_type": "code",
   "execution_count": 4,
   "metadata": {},
   "outputs": [],
   "source": [
    "import numpy as np\n",
    "import pytest\n",
    "import sympy\n",
    "from sympy import cos, simplify, sin, sinh, tensorcontraction, sqrt, Abs\n",
    "from sympy import init_printing\n",
    "from einsteinpy.symbolic import EinsteinTensor, MetricTensor, RicciScalar, ChristoffelSymbols\n",
    "\n",
    "\n",
    "sympy.init_printing()"
   ]
  },
  {
   "cell_type": "code",
   "execution_count": 12,
   "metadata": {},
   "outputs": [
    {
     "data": {
      "text/latex": [
       "$\\displaystyle \\left[\\begin{matrix}\\left(\\frac{3 \\sqrt{1 - A}}{2} - \\frac{\\sqrt{- B r^{2} + 1}}{2}\\right)^{2} & 0 & 0 & 0\\\\0 & - \\frac{1}{- B r^{2} + 1} & 0 & 0\\\\0 & 0 & - r^{2} & 0\\\\0 & 0 & 0 & - r^{2} \\sin^{2}{\\left(\\theta \\right)}\\end{matrix}\\right]$"
      ],
      "text/plain": [
       "⎡                               2                              ⎤\n",
       "⎢⎛                 ____________⎞                               ⎥\n",
       "⎢⎜    _______     ╱      2     ⎟                               ⎥\n",
       "⎢⎜3⋅╲╱ 1 - A    ╲╱  - B⋅r  + 1 ⎟                               ⎥\n",
       "⎢⎜─────────── - ───────────────⎟       0        0        0     ⎥\n",
       "⎢⎝     2               2       ⎠                               ⎥\n",
       "⎢                                                              ⎥\n",
       "⎢                                     -1                       ⎥\n",
       "⎢               0                  ──────────   0        0     ⎥\n",
       "⎢                                       2                      ⎥\n",
       "⎢                                  - B⋅r  + 1                  ⎥\n",
       "⎢                                                              ⎥\n",
       "⎢                                                2             ⎥\n",
       "⎢               0                      0       -r        0     ⎥\n",
       "⎢                                                              ⎥\n",
       "⎢                                                     2    2   ⎥\n",
       "⎣               0                      0        0   -r ⋅sin (θ)⎦"
      ]
     },
     "execution_count": 12,
     "metadata": {},
     "output_type": "execute_result"
    }
   ],
   "source": [
    "syms = sympy.symbols(\"t r theta phi\")\n",
    "A, B, c = sympy.symbols(\"A B c\")\n",
    "#m = sympy.diag((sqrt(1-A)*3/2-sqrt(1-B*syms[1]**2)/2)**2*c**2, -1/(1-B*syms[1]**2), -syms[1]**2, -syms[1]**2 * sin(syms[2]) ** 2).tolist()\n",
    "m = [[0 for i in range(4)] for i in range(4)]\n",
    "m[0][0] = (sqrt(1-A)*3/2-sqrt(1-B*(syms[1]**2))/2)**2\n",
    "m[1][1] = -1/(1-B*(syms[1]**2))\n",
    "m[2][2] = -syms[1]**2\n",
    "m[3][3] = -syms[1]**2 * sin(syms[2]) ** 2\n",
    "met = MetricTensor(m, syms)\n",
    "met.tensor()"
   ]
  },
  {
   "cell_type": "code",
   "execution_count": 18,
   "metadata": {},
   "outputs": [],
   "source": [
    "einst = EinsteinTensor.from_metric(met)\n",
    "#new_einst = einst.change_config(newconfig='ul', metric=met)\n",
    "einst_new = einst.simplify()\n",
    "\n",
    "\n"
   ]
  },
  {
   "cell_type": "code",
   "execution_count": 19,
   "metadata": {},
   "outputs": [
    {
     "ename": "NameError",
     "evalue": "name 'latex' is not defined",
     "output_type": "error",
     "traceback": [
      "\u001b[1;31m---------------------------------------------------------------------------\u001b[0m",
      "\u001b[1;31mNameError\u001b[0m                                 Traceback (most recent call last)",
      "\u001b[1;32m<ipython-input-19-34fdb698f559>\u001b[0m in \u001b[0;36m<module>\u001b[1;34m\u001b[0m\n\u001b[1;32m----> 1\u001b[1;33m \u001b[0mprint\u001b[0m\u001b[1;33m(\u001b[0m\u001b[0mlatex\u001b[0m\u001b[1;33m(\u001b[0m\u001b[0meinst_new\u001b[0m\u001b[1;33m[\u001b[0m\u001b[1;36m0\u001b[0m\u001b[1;33m]\u001b[0m\u001b[1;33m[\u001b[0m\u001b[1;36m0\u001b[0m\u001b[1;33m]\u001b[0m\u001b[1;33m)\u001b[0m\u001b[1;33m)\u001b[0m\u001b[1;33m\u001b[0m\u001b[1;33m\u001b[0m\u001b[0m\n\u001b[0m",
      "\u001b[1;31mNameError\u001b[0m: name 'latex' is not defined"
     ]
    }
   ],
   "source": [
    "print(latex(einst_new[0][0]))"
   ]
  },
  {
   "cell_type": "code",
   "execution_count": 3,
   "metadata": {
    "scrolled": true
   },
   "outputs": [
    {
     "data": {
      "text/latex": [
       "$\\displaystyle \\left[\\begin{matrix}\\left[\\begin{matrix}0 & - \\frac{0.333333333333333 B c^{2} r \\left(\\sqrt{1 - A} - 0.333333333333333 \\sqrt{- B r^{2} + 1}\\right)}{\\sqrt{- B r^{2} + 1} \\left(1.0 A c^{2} + 0.111111111111111 B c^{2} r^{2} + 0.666666666666667 c^{2} \\sqrt{1 - A} \\sqrt{- B r^{2} + 1} - 1.11111111111111 c^{2}\\right)} & 0 & 0\\\\- \\frac{0.333333333333333 B c^{2} r \\left(\\sqrt{1 - A} - 0.333333333333333 \\sqrt{- B r^{2} + 1}\\right)}{\\sqrt{- B r^{2} + 1} \\left(1.0 A c^{2} + 0.111111111111111 B c^{2} r^{2} + 0.666666666666667 c^{2} \\sqrt{1 - A} \\sqrt{- B r^{2} + 1} - 1.11111111111111 c^{2}\\right)} & 0 & 0 & 0\\\\0 & 0 & 0 & 0\\\\0 & 0 & 0 & 0\\end{matrix}\\right] & \\left[\\begin{matrix}- \\frac{1.5 B c^{2} r \\left(\\frac{B r^{2}}{2} - \\frac{1}{2}\\right) \\left(\\sqrt{1 - A} - 0.333333333333333 \\sqrt{- B r^{2} + 1}\\right)}{\\sqrt{- B r^{2} + 1}} & 0 & 0 & 0\\\\0 & - \\frac{2 B r \\left(\\frac{B r^{2}}{2} - \\frac{1}{2}\\right)}{\\left(- B r^{2} + 1\\right)^{2}} & 0 & 0\\\\0 & 0 & 2 r \\left(\\frac{B r^{2}}{2} - \\frac{1}{2}\\right) & 0\\\\0 & 0 & 0 & 2 r \\left(\\frac{B r^{2}}{2} - \\frac{1}{2}\\right) \\sin^{2}{\\left(\\theta \\right)}\\end{matrix}\\right] & \\left[\\begin{matrix}0 & 0 & 0 & 0\\\\0 & 0 & \\frac{1}{r} & 0\\\\0 & \\frac{1}{r} & 0 & 0\\\\0 & 0 & 0 & - \\sin{\\left(\\theta \\right)} \\cos{\\left(\\theta \\right)}\\end{matrix}\\right] & \\left[\\begin{matrix}0 & 0 & 0 & 0\\\\0 & 0 & 0 & \\frac{1}{r}\\\\0 & 0 & 0 & \\frac{\\cos{\\left(\\theta \\right)}}{\\sin{\\left(\\theta \\right)}}\\\\0 & \\frac{1}{r} & \\frac{\\cos{\\left(\\theta \\right)}}{\\sin{\\left(\\theta \\right)}} & 0\\end{matrix}\\right]\\end{matrix}\\right]$"
      ],
      "text/plain": [
       "⎡                                                                             \n",
       "⎢                                                                             \n",
       "⎢                                                                             \n",
       "⎢                                                                             \n",
       "⎢⎡                                                                            \n",
       "⎢⎢                                                                            \n",
       "⎢⎢                                                                            \n",
       "⎢⎢                                                              0             \n",
       "⎢⎢                                                                            \n",
       "⎢⎢                                                                            \n",
       "⎢⎢                                                                            \n",
       "⎢⎢                                                                            \n",
       "⎢⎢                                                    ⎛                       \n",
       "⎢⎢                                                2   ⎜  _______              \n",
       "⎢⎢                          -0.333333333333333⋅B⋅c ⋅r⋅⎝╲╱ 1 - A  - 0.333333333\n",
       "⎢⎢────────────────────────────────────────────────────────────────────────────\n",
       "⎢⎢   ____________ ⎛                                                           \n",
       "⎢⎢  ╱      2      ⎜       2                        2  2                      2\n",
       "⎢⎢╲╱  - B⋅r  + 1 ⋅⎝1.0⋅A⋅c  + 0.111111111111111⋅B⋅c ⋅r  + 0.666666666666667⋅c \n",
       "⎢⎢                                                                            \n",
       "⎢⎢                                                              0             \n",
       "⎢⎢                                                                            \n",
       "⎢⎣                                                              0             \n",
       "⎢                                                                             \n",
       "⎢                                                                             \n",
       "⎢                                                                             \n",
       "⎣                                                                             \n",
       "\n",
       "                                                                              \n",
       "                                                                              \n",
       "                                                                              \n",
       "                                                                              \n",
       "                                                                              \n",
       "                                                                              \n",
       "                                                                             -\n",
       "                                                   ───────────────────────────\n",
       "                                                      ____________ ⎛          \n",
       "                                                     ╱      2      ⎜       2  \n",
       "                                                   ╲╱  - B⋅r  + 1 ⋅⎝1.0⋅A⋅c  +\n",
       "                                                                              \n",
       "          ____________⎞                                                       \n",
       "         ╱      2     ⎟                                                       \n",
       "333333⋅╲╱  - B⋅r  + 1 ⎠                                                       \n",
       "─────────────────────────────────────────────────                             \n",
       "              ____________                      ⎞                             \n",
       "   _______   ╱      2                          2⎟                             \n",
       "⋅╲╱ 1 - A ⋅╲╱  - B⋅r  + 1  - 1.11111111111111⋅c ⎠                             \n",
       "                                                                              \n",
       "                                                                              \n",
       "                                                                              \n",
       "                                                                              \n",
       "                                                                              \n",
       "                                                                              \n",
       "                                                                              \n",
       "                                                                              \n",
       "\n",
       "                                                                              \n",
       "                                                                              \n",
       "                                                                              \n",
       "                                                                              \n",
       "                         ⎛                                 ____________⎞      \n",
       "                     2   ⎜  _______                       ╱      2     ⎟      \n",
       "0.333333333333333⋅B⋅c ⋅r⋅⎝╲╱ 1 - A  - 0.333333333333333⋅╲╱  - B⋅r  + 1 ⎠      \n",
       "──────────────────────────────────────────────────────────────────────────────\n",
       "                                                               ____________   \n",
       "                      2  2                      2   _______   ╱      2        \n",
       " 0.111111111111111⋅B⋅c ⋅r  + 0.666666666666667⋅c ⋅╲╱ 1 - A ⋅╲╱  - B⋅r  + 1  - \n",
       "                                                                              \n",
       "                                                                              \n",
       "                                                                              \n",
       "                                                                              \n",
       "                                   0                                          \n",
       "                                                                              \n",
       "                                                                              \n",
       "                                                                              \n",
       "                                                                              \n",
       "                                   0                                          \n",
       "                                                                              \n",
       "                                   0                                          \n",
       "                                                                              \n",
       "                                                                              \n",
       "                                                                              \n",
       "                                                                              \n",
       "\n",
       "                             ⎡            ⎛   2    ⎞ ⎛                        \n",
       "                             ⎢        2   ⎜B⋅r    1⎟ ⎜  _______               \n",
       "                             ⎢-1.5⋅B⋅c ⋅r⋅⎜──── - ─⎟⋅⎝╲╱ 1 - A  - 0.3333333333\n",
       "                             ⎢            ⎝ 2     2⎠                          \n",
       "                          ⎤  ⎢────────────────────────────────────────────────\n",
       "                          ⎥  ⎢                               ____________     \n",
       "                          ⎥  ⎢                              ╱      2          \n",
       "────────────────────  0  0⎥  ⎢                            ╲╱  - B⋅r  + 1      \n",
       "                   ⎞      ⎥  ⎢                                                \n",
       "                  2⎟      ⎥  ⎢                                                \n",
       "1.11111111111111⋅c ⎠      ⎥  ⎢                                                \n",
       "                          ⎥  ⎢                                                \n",
       "                          ⎥  ⎢                                                \n",
       "                          ⎥  ⎢                                   0            \n",
       "                          ⎥  ⎢                                                \n",
       "                      0  0⎥  ⎢                                                \n",
       "                          ⎥  ⎢                                                \n",
       "                          ⎥  ⎢                                                \n",
       "                          ⎥  ⎢                                                \n",
       "                          ⎥  ⎢                                                \n",
       "                      0  0⎥  ⎢                                   0            \n",
       "                          ⎥  ⎢                                                \n",
       "                      0  0⎦  ⎢                                                \n",
       "                             ⎢                                                \n",
       "                             ⎢                                                \n",
       "                             ⎢                                   0            \n",
       "                             ⎣                                                \n",
       "\n",
       "         ____________⎞                                                        \n",
       "        ╱      2     ⎟                                                        \n",
       "33333⋅╲╱  - B⋅r  + 1 ⎠                                                        \n",
       "                                                                              \n",
       "───────────────────────          0                 0                   0      \n",
       "                                                                              \n",
       "                                                                              \n",
       "                                                                              \n",
       "                                                                              \n",
       "                                ⎛   2    ⎞                                    \n",
       "                                ⎜B⋅r    1⎟                                    \n",
       "                         -2⋅B⋅r⋅⎜──── - ─⎟                                    \n",
       "                                ⎝ 2     2⎠                                    \n",
       "                         ──────────────────        0                   0      \n",
       "                                       2                                      \n",
       "                           ⎛     2    ⎞                                       \n",
       "                           ⎝- B⋅r  + 1⎠                                       \n",
       "                                                                              \n",
       "                                                 ⎛   2    ⎞                   \n",
       "                                                 ⎜B⋅r    1⎟                   \n",
       "                                 0           2⋅r⋅⎜──── - ─⎟            0      \n",
       "                                                 ⎝ 2     2⎠                   \n",
       "                                                                              \n",
       "                                                                 ⎛   2    ⎞   \n",
       "                                                                 ⎜B⋅r    1⎟   \n",
       "                                 0                 0         2⋅r⋅⎜──── - ─⎟⋅si\n",
       "                                                                 ⎝ 2     2⎠   \n",
       "\n",
       "     ⎤                                                   ⎤\n",
       "     ⎥                                                   ⎥\n",
       "     ⎥                                                   ⎥\n",
       "     ⎥                                                   ⎥\n",
       "     ⎥                                                   ⎥\n",
       "     ⎥                                                   ⎥\n",
       "     ⎥                                                   ⎥\n",
       "     ⎥                             ⎡0  0    0       0   ⎤⎥\n",
       "     ⎥  ⎡0  0  0        0       ⎤  ⎢                    ⎥⎥\n",
       "     ⎥  ⎢                       ⎥  ⎢                1   ⎥⎥\n",
       "     ⎥  ⎢      1                ⎥  ⎢0  0    0       ─   ⎥⎥\n",
       "     ⎥  ⎢0  0  ─        0       ⎥  ⎢                r   ⎥⎥\n",
       "     ⎥  ⎢      r                ⎥  ⎢                    ⎥⎥\n",
       "     ⎥  ⎢                       ⎥  ⎢              cos(θ)⎥⎥\n",
       "     ⎥  ⎢   1                   ⎥  ⎢0  0    0     ──────⎥⎥\n",
       "     ⎥  ⎢0  ─  0        0       ⎥  ⎢              sin(θ)⎥⎥\n",
       "     ⎥  ⎢   r                   ⎥  ⎢                    ⎥⎥\n",
       "     ⎥  ⎢                       ⎥  ⎢   1  cos(θ)        ⎥⎥\n",
       "     ⎥  ⎣0  0  0  -sin(θ)⋅cos(θ)⎦  ⎢0  ─  ──────    0   ⎥⎥\n",
       "     ⎥                             ⎣   r  sin(θ)        ⎦⎥\n",
       "     ⎥                                                   ⎥\n",
       "     ⎥                                                   ⎥\n",
       "     ⎥                                                   ⎥\n",
       "     ⎥                                                   ⎥\n",
       " 2   ⎥                                                   ⎥\n",
       "n (θ)⎥                                                   ⎥\n",
       "     ⎦                                                   ⎦"
      ]
     },
     "execution_count": 3,
     "metadata": {},
     "output_type": "execute_result"
    }
   ],
   "source": [
    "chr = ChristoffelSymbols.from_metric(met) # can be initialized from sch also\n",
    "chr.tensor()"
   ]
  },
  {
   "cell_type": "code",
   "execution_count": 54,
   "metadata": {},
   "outputs": [
    {
     "data": {
      "text/plain": [
       "'ull'"
      ]
     },
     "execution_count": 54,
     "metadata": {},
     "output_type": "execute_result"
    }
   ],
   "source": [
    "chr.config"
   ]
  },
  {
   "cell_type": "code",
   "execution_count": 27,
   "metadata": {},
   "outputs": [],
   "source": [
    "#Change format of image_data and labels\n",
    "image_data = np.array(data)\n",
    "labels = np.array(labels)\n",
    "\n",
    "\n",
    "# Shuffle data\n",
    "idx = np.arange(image_data.shape[0])\n",
    "np.random.shuffle(idx) #Shuffle index\n",
    "\n",
    "\n",
    "#Shuffle images and labels according to idx\n",
    "image_data = image_data[idx] \n",
    "labels = labels[idx]"
   ]
  },
  {
   "cell_type": "code",
   "execution_count": 28,
   "metadata": {},
   "outputs": [],
   "source": [
    "# Split dataset into training and testing dataset\n",
    "from sklearn.model_selection import train_test_split\n",
    "x_train, x_test, y_train, y_test = train_test_split(image_data, labels, test_size=0.2, random_state=101)\n",
    "\n",
    "# Split testing dataset into testing and validation\n",
    "x_test, x_val = x_test[0:int(len(x_test) / 2), :], x_test[int(len(x_test) / 2) + 1:, :]\n",
    "y_test, y_val = y_test[0:int(len(y_test) / 2)], y_test[int(len(y_test) / 2) + 1:]\n",
    "\n",
    "# Two samples from the testing set for heatmapping\n",
    "x_call, y_call = x_test[[np.argmin(y_test), np.argmax(y_test)]], y_test[[np.argmin(y_test), np.argmax(y_test)]]\n"
   ]
  },
  {
   "cell_type": "code",
   "execution_count": 29,
   "metadata": {},
   "outputs": [
    {
     "data": {
      "image/png": "[encoded data removed]",
      "text/plain": [
       "<Figure size 432x288 with 2 Axes>"
      ]
     },
     "metadata": {
      "needs_background": "light"
     },
     "output_type": "display_data"
    }
   ],
   "source": [
    "plt.subplot(121)\n",
    "plt.imshow(x_call[0, :, :, :])\n",
    "plt.title(\"Uninfected\")\n",
    "plt.subplot(122)\n",
    "plt.imshow(x_call[1, :, :, :])\n",
    "plt.title(\"Infected\")\n",
    "plt.show()"
   ]
  },
  {
   "cell_type": "code",
   "execution_count": 30,
   "metadata": {},
   "outputs": [],
   "source": [
    "# Make the labels keras-friendly\n",
    "y_train = to_categorical(y_train, num_classes=2)\n",
    "y_val = to_categorical(y_val, num_classes=2)\n",
    "y_test = to_categorical(y_test, num_classes=2)"
   ]
  },
  {
   "cell_type": "code",
   "execution_count": 31,
   "metadata": {},
   "outputs": [
    {
     "name": "stdout",
     "output_type": "stream",
     "text": [
      "Training image size  : (22046, 100, 100, 3)\n",
      "Validation image size: (2755, 100, 100, 3)\n",
      "Testing image size   : (2756, 100, 100, 3)\n",
      "\n",
      "Training label size  : (22046, 2)\n",
      "Validating label size: (2755, 2)\n",
      "Testing label size   : (2756, 2)\n"
     ]
    }
   ],
   "source": [
    "# A quick summary of the data:\n",
    "print(f\"Training image size  : {str(x_train.shape)}\")\n",
    "print(f\"Validation image size: {str(x_val.shape)}\")\n",
    "print(f\"Testing image size   : {str(x_test.shape)}\")\n",
    "print(\"\")\n",
    "print(f\"Training label size  : {str(y_train.shape)}\")\n",
    "print(f\"Validating label size: {str(y_val.shape)}\")\n",
    "print(f\"Testing label size   : {str(y_test.shape)}\")"
   ]
  },
  {
   "cell_type": "code",
   "execution_count": 32,
   "metadata": {},
   "outputs": [],
   "source": [
    "# Import packages important for building and training your model.\n",
    "\n",
    "import tensorflow.keras\n",
    "from tensorflow.keras.layers import Dense, Conv2D\n",
    "from tensorflow.keras.layers import Flatten\n",
    "from tensorflow.keras.layers import MaxPooling2D, GlobalAveragePooling2D\n",
    "from tensorflow.keras.layers import Activation\n",
    "from tensorflow.keras.layers import BatchNormalization\n",
    "from tensorflow.keras.layers import Dropout\n",
    "from tensorflow.keras.models import Sequential\n",
    "from tensorflow.keras import backend as K\n",
    "from tensorflow.keras import optimizers"
   ]
  },
  {
   "cell_type": "code",
   "execution_count": 33,
   "metadata": {},
   "outputs": [],
   "source": [
    "def build_model(height, width, classes, channels):\n",
    "    model = Sequential()\n",
    "    inputShape = (height, width, channels)\n",
    "    chanDim = -1\n",
    "\n",
    "    if K.image_data_format() == 'channels_first':\n",
    "        inputShape = (channels, height, width)\n",
    "        \n",
    "\n",
    "    model.add(Conv2D(2, kernel_size=(5, 5), activation='relu', input_shape=inputShape, name='hotmap'))\n",
    "    model.add(MaxPooling2D(pool_size=(4, 4)))\n",
    "    model.add(BatchNormalization(axis = chanDim))\n",
    "    model.add(Dropout(0.3))\n",
    "\n",
    "    model.add(Conv2D(4, kernel_size=(3, 3), activation='relu'))\n",
    "    model.add(MaxPooling2D(pool_size=(2, 2)))\n",
    "    model.add(Dropout(0.3))\n",
    "    \n",
    "    \n",
    "    model.add(Conv2D(2, kernel_size=(3, 3), activation='relu'))\n",
    "    model.add(MaxPooling2D(pool_size=(2, 2)))\n",
    "    model.add(BatchNormalization(axis = chanDim))\n",
    "    \n",
    "    model.add(Dropout(0.3))\n",
    "    model.add(Flatten())\n",
    "    \n",
    "    model.add(Dense(4, activation='relu'))\n",
    "    model.add(Dense(2, activation='relu'))\n",
    "    model.add(Dropout(0.4))\n",
    "    model.add(Dense(classes, activation='sigmoid'))\n",
    "\n",
    "    \n",
    "    return model\n",
    "\n",
    "\n",
    "\n",
    "\n",
    "\n",
    "# NOTE: Look at the imported layers in the previous cell. Feel free to use all of them. âˆš\n",
    "# NOTE: Are you satisfied with the model being sequential? Feel free to experiment.  âˆš\n",
    "# NOTE: The first activation layer is named 'hotmap' for further use for heatmapping. âˆš\n",
    "# NOTE: What activation are you using on the output layer? What range will your output have?  âˆš (Sigmoid)"
   ]
  },
  {
   "cell_type": "code",
   "execution_count": 34,
   "metadata": {},
   "outputs": [
    {
     "name": "stdout",
     "output_type": "stream",
     "text": [
      "Size of the model input: (None, 100, 100, 3)\n",
      "Model: \"sequential\"\n",
      "_________________________________________________________________\n",
      "Layer (type)                 Output Shape              Param #   \n",
      "=================================================================\n",
      "hotmap (Conv2D)              (None, 96, 96, 2)         152       \n",
      "_________________________________________________________________\n",
      "max_pooling2d (MaxPooling2D) (None, 24, 24, 2)         0         \n",
      "_________________________________________________________________\n",
      "batch_normalization (BatchNo (None, 24, 24, 2)         8         \n",
      "_________________________________________________________________\n",
      "dropout (Dropout)            (None, 24, 24, 2)         0         \n",
      "_________________________________________________________________\n",
      "conv2d (Conv2D)              (None, 22, 22, 4)         76        \n",
      "_________________________________________________________________\n",
      "max_pooling2d_1 (MaxPooling2 (None, 11, 11, 4)         0         \n",
      "_________________________________________________________________\n",
      "dropout_1 (Dropout)          (None, 11, 11, 4)         0         \n",
      "_________________________________________________________________\n",
      "conv2d_1 (Conv2D)            (None, 9, 9, 2)           74        \n",
      "_________________________________________________________________\n",
      "max_pooling2d_2 (MaxPooling2 (None, 4, 4, 2)           0         \n",
      "_________________________________________________________________\n",
      "batch_normalization_1 (Batch (None, 4, 4, 2)           8         \n",
      "_________________________________________________________________\n",
      "dropout_2 (Dropout)          (None, 4, 4, 2)           0         \n",
      "_________________________________________________________________\n",
      "flatten (Flatten)            (None, 32)                0         \n",
      "_________________________________________________________________\n",
      "dense (Dense)                (None, 4)                 132       \n",
      "_________________________________________________________________\n",
      "dense_1 (Dense)              (None, 2)                 10        \n",
      "_________________________________________________________________\n",
      "dropout_3 (Dropout)          (None, 2)                 0         \n",
      "_________________________________________________________________\n",
      "dense_2 (Dense)              (None, 2)                 6         \n",
      "=================================================================\n",
      "Total params: 466\n",
      "Trainable params: 458\n",
      "Non-trainable params: 8\n",
      "_________________________________________________________________\n"
     ]
    }
   ],
   "source": [
    "# Build your model.\n",
    "\n",
    "classes = 2\n",
    "channels = 3\n",
    "model = build_model(height=height, width=width, classes=classes, channels=channels)\n",
    "print(f'Size of the model input: {str(model.input.shape)}')\n",
    "model.summary()\n",
    "\n",
    "# NOTE: Are the input sizes correct? âˆš\n",
    "# NOTE: Are the output sizes correct? âˆš\n",
    "# NOTE: Is the 'hotmap' activation layer in the model? âˆš\n",
    "# NOTE: Try to imagine the model layer-by-layer and think it through. Is it doing something reasonable? â€“\n",
    "# NOTE: Are the model parameters split \"evenly\" between the layers? Or is there one huge layer? â€“ One huge layer\n",
    "# NOTE: Will the model fit into memory? Is the model too small? Is the model too large?"
   ]
  },
  {
   "cell_type": "code",
   "execution_count": 35,
   "metadata": {},
   "outputs": [],
   "source": [
    "# Compile the model, try out different optimizers\n",
    "\n",
    "optim=optimizers.Adam()\n",
    "\n",
    "model.compile(loss='binary_crossentropy', optimizer =optim, metrics=['accuracy'])\n",
    "\n",
    "# NOTE: Are you satisfied with the loss function? âˆš\n",
    "# NOTE: Are you satisfied with the metric? âˆš\n",
    "# NOTE: Are you satisfied with the optimizer and its parameters?"
   ]
  },
  {
   "cell_type": "code",
   "execution_count": 36,
   "metadata": {
    "scrolled": true
   },
   "outputs": [
    {
     "name": "stdout",
     "output_type": "stream",
     "text": [
      "Train on 22046 samples, validate on 2756 samples\n",
      "Epoch 1/5\n",
      "22046/22046 [==============================] - 48s 2ms/sample - loss: 0.7535 - accuracy: 0.4959 - val_loss: 0.7050 - val_accuracy: 0.4917\n",
      "Epoch 2/5\n",
      "22046/22046 [==============================] - 43s 2ms/sample - loss: 0.6999 - accuracy: 0.4950 - val_loss: 0.6958 - val_accuracy: 0.4891\n",
      "Epoch 3/5\n",
      "22046/22046 [==============================] - 45s 2ms/sample - loss: 0.6963 - accuracy: 0.4985 - val_loss: 0.6934 - val_accuracy: 0.5018\n",
      "Epoch 4/5\n",
      "22046/22046 [==============================] - 45s 2ms/sample - loss: 0.6948 - accuracy: 0.5039 - val_loss: 0.6933 - val_accuracy: 0.5118\n",
      "Epoch 5/5\n",
      "22046/22046 [==============================] - 46s 2ms/sample - loss: 0.6934 - accuracy: 0.5130 - val_loss: 0.6929 - val_accuracy: 0.5100\n"
     ]
    }
   ],
   "source": [
    "#fit the model onto the dataset\n",
    "batch_size = 128\n",
    "n_epochs = 5\n",
    "\n",
    "\n",
    "\n",
    "\n",
    "h = model.fit(x_train, y_train, epochs=n_epochs, batch_size=batch_size, validation_data=(x_test, y_test))\n",
    "\n",
    "# NOTE: Plotting the accuracies and losses helps a lot. âˆš\n",
    "# NOTE: What does plotting the training data tell you? Should you plot something else? âˆš\n",
    "# NOTE: What should one do with the validation data? âˆš\n",
    "# NOTE: When should one stop? Did you overtrain? Did you train for long enough? âˆš\n",
    "# NOTE: Think about implementing Early Stopping? -"
   ]
  },
  {
   "cell_type": "code",
   "execution_count": 38,
   "metadata": {},
   "outputs": [
    {
     "name": "stdout",
     "output_type": "stream",
     "text": [
      "Validation loss    : 0.694\n",
      "Validation accuracy: 0.492\n"
     ]
    },
    {
     "data": {
      "image/png": "[encoded data removed]",
      "text/plain": [
       "<Figure size 432x288 with 1 Axes>"
      ]
     },
     "metadata": {
      "needs_background": "light"
     },
     "output_type": "display_data"
    },
    {
     "data": {
      "image/png": "[encoded data removed]",
      "text/plain": [
       "<Figure size 432x288 with 1 Axes>"
      ]
     },
     "metadata": {
      "needs_background": "light"
     },
     "output_type": "display_data"
    }
   ],
   "source": [
    "import matplotlib.pyplot as plt\n",
    "# Evaluate the model on the validation data. Its this value that should exceed 0.96 (i.e., 95 %).\n",
    "predictions = model.evaluate(x_val, y_val, verbose=0)\n",
    "print(f\"Validation loss    : {predictions[0]:.3f}\")\n",
    "print(f\"Validation accuracy: {predictions[1]:.3f}\")\n",
    "\n",
    "# Visulize the accuracy\n",
    "plt.plot(h.history['loss'])\n",
    "plt.plot(h.history['val_loss'])\n",
    "plt.title('Model Loss')\n",
    "plt.ylabel('Loss')\n",
    "plt.xlabel('Epoch')\n",
    "plt.legend(['Train loss','Val loss'], loc='best')\n",
    "plt.show()\n",
    "\n",
    "plt.plot(h.history['accuracy'])\n",
    "plt.plot(h.history['val_accuracy'])\n",
    "plt.title('Model Accuracy')\n",
    "plt.ylabel('Loss')\n",
    "plt.xlabel('Epoch')\n",
    "plt.legend(['Train accuracy','Val accuracy'], loc='best')\n",
    "plt.show()\n",
    "\n",
    "# NOTE: Is this high enough? How about varying model hyper-parameters? Perhaps implement data augmentation?"
   ]
  },
  {
   "cell_type": "code",
   "execution_count": null,
   "metadata": {},
   "outputs": [],
   "source": [
    "# Final model's test error. Note that you should _NOT_ look at this value until you are\n",
    "# completely happy with your model. Report this value in the report.\n",
    "\n",
    "predictions = model.evaluate(x_test, y_test, verbose=0)\n",
    "print(f\"Test loss    : {predictions[0]:.3f}\")\n",
    "print(f\"Test accuracy: {predictions[1]:.3f}\")"
   ]
  },
  {
   "cell_type": "code",
   "execution_count": null,
   "metadata": {},
   "outputs": [],
   "source": []
  }
 ],
 "metadata": {
  "celltoolbar": "Attachments",
  "kernelspec": {
   "display_name": "Python 3",
   "language": "python",
   "name": "python3"
  },
  "language_info": {
   "codemirror_mode": {
    "name": "ipython",
    "version": 3
   },
   "file_extension": ".py",
   "mimetype": "text/x-python",
   "name": "python",
   "nbconvert_exporter": "python",
   "pygments_lexer": "ipython3",
   "version": "3.8.3"
  }
 },
 "nbformat": 4,
 "nbformat_minor": 4
}
